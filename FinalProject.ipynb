{
 "cells": [
  {
   "cell_type": "code",
   "execution_count": 1,
   "id": "18920fe9",
   "metadata": {},
   "outputs": [],
   "source": [
    "# f(x) = -12x^4*sin(cos(x)) - 18x^3+5x^2 + 10x - 30"
   ]
  },
  {
   "cell_type": "code",
   "execution_count": 2,
   "id": "8a0d39f1",
   "metadata": {},
   "outputs": [],
   "source": [
    "import math\n",
    "import numpy as np\n",
    "import matplotlib.pyplot as plt"
   ]
  },
  {
   "cell_type": "code",
   "execution_count": 3,
   "id": "d82911dd",
   "metadata": {},
   "outputs": [],
   "source": [
    "a = -12\n",
    "b = -18\n",
    "c = 5\n",
    "d = 10\n",
    "e = -30"
   ]
  },
  {
   "cell_type": "code",
   "execution_count": 4,
   "id": "51bea2e3",
   "metadata": {},
   "outputs": [],
   "source": [
    "def f(x):\n",
    "    function = a*x**4*np.sin(np.cos(x)) + b*x**3 + c*x**2 + d*x + e\n",
    "    return function"
   ]
  },
  {
   "cell_type": "code",
   "execution_count": 5,
   "id": "d94846cd",
   "metadata": {},
   "outputs": [],
   "source": [
    "x = np.arange(-25, 25.01, 0.01)"
   ]
  },
  {
   "cell_type": "code",
   "execution_count": 6,
   "id": "b0f63f4d",
   "metadata": {},
   "outputs": [],
   "source": [
    "# def show_func():\n",
    "#     plt.plot(x, f(x), 'r')\n",
    "#     plt.show()"
   ]
  },
  {
   "cell_type": "code",
   "execution_count": 7,
   "id": "3dfe46af",
   "metadata": {},
   "outputs": [],
   "source": [
    "# show_func()"
   ]
  },
  {
   "cell_type": "code",
   "execution_count": 8,
   "id": "1eef3dc3",
   "metadata": {},
   "outputs": [],
   "source": [
    "def roots(a, b, c, d, e):\n",
    "    x = np.arange(-25, 25.01, 0.01)\n",
    "    function = a*x**4*np.sin(np.cos(x)) + b*x**3 + c*x**2 + d*x + e\n",
    "#     print(function)\n",
    "    root = []\n",
    "    i = 1\n",
    "    for i in range(len(function)):\n",
    "        if function[i] > 0 and function[i - 1] < 0:\n",
    "            root.append(i)\n",
    "            root.append(function[i])\n",
    "        if function[i] < 0 and function[i - 1] > 0:\n",
    "            root.append(i - 1)\n",
    "            root.append(function[i - 1])\n",
    "    print(root)\n",
    "    return root\n"
   ]
  },
  {
   "cell_type": "code",
   "execution_count": 9,
   "id": "a8fd7d1d",
   "metadata": {},
   "outputs": [
    {
     "name": "stdout",
     "output_type": "stream",
     "text": [
      "[138, 23124.43314766019, 465, 8985.92443312811, 764, 7127.04160299308, 1097, 886.2831092396498, 1387, 689.946260200069, 1734, 362.22652924487574, 1998, 50.582809323657145, 2366, 0.11437708899344301, 2728, 2.0170176466942635, 2938, 12.89818291675914, 3304, 239.61201603291477, 3586, 105.2308288627903, 3925, 4637.4618733644, 4219, 2946.982531847657, 4550, 15646.870383481628, 4849, 32060.568470777285]\n"
     ]
    }
   ],
   "source": [
    "y_roots = roots(-12, -18, 5, 10, -30) # значения Y при которых происходит пересечение оси X (индекс, значение)"
   ]
  },
  {
   "cell_type": "code",
   "execution_count": 10,
   "id": "3c2a51c4",
   "metadata": {},
   "outputs": [
    {
     "name": "stdout",
     "output_type": "stream",
     "text": [
      "[138, 23124.43314766019, 465, 8985.92443312811, 764, 7127.04160299308, 1097, 886.2831092396498, 1387, 689.946260200069, 1734, 362.22652924487574, 1998, 50.582809323657145, 2366, 0.11437708899344301, 2728, 2.0170176466942635, 2938, 12.89818291675914, 3304, 239.61201603291477, 3586, 105.2308288627903, 3925, 4637.4618733644, 4219, 2946.982531847657, 4550, 15646.870383481628, 4849, 32060.568470777285]\n"
     ]
    }
   ],
   "source": [
    "print(y_roots)"
   ]
  },
  {
   "cell_type": "code",
   "execution_count": 11,
   "id": "c669ab14",
   "metadata": {},
   "outputs": [],
   "source": [
    "x_list = np.arange(-25, 25.01, 0.01)"
   ]
  },
  {
   "cell_type": "code",
   "execution_count": 12,
   "id": "198c16be",
   "metadata": {},
   "outputs": [],
   "source": [
    "# print(x_list)"
   ]
  },
  {
   "cell_type": "code",
   "execution_count": 13,
   "id": "ccbbf453",
   "metadata": {},
   "outputs": [],
   "source": [
    "# print(x_list[138], x_list[465], x_list[764], x_list[1097], x_list[1387], x_list[1734], x_list[1998], x_list[2366], x_list[2728], \n",
    "#      x_list[2938], x_list[3304], x_list[3586], x_list[3925], x_list[4219], x_list[4550], x_list[4849])"
   ]
  },
  {
   "cell_type": "code",
   "execution_count": 14,
   "id": "add6866d",
   "metadata": {},
   "outputs": [
    {
     "name": "stdout",
     "output_type": "stream",
     "text": [
      "Корни уравнения для отрезка -25, 25 = [-23.62, -20.35, -17.36, -14.03, -11.13, -7.66, -5.02, -1.34, 2.28, 4.38, 8.04, 10.86, 14.25, 17.19, 20.5, 23.49]\n"
     ]
    }
   ],
   "source": [
    "x_roots = []\n",
    "x_roots.append(round(x_list[138], 2))\n",
    "x_roots.append(round(x_list[465], 2))\n",
    "x_roots.append(round(x_list[764], 2))\n",
    "x_roots.append(round(x_list[1097], 2))\n",
    "x_roots.append(round(x_list[1387], 2))\n",
    "x_roots.append(round(x_list[1734], 2))\n",
    "x_roots.append(round(x_list[1998], 2))\n",
    "x_roots.append(round(x_list[2366], 2))\n",
    "x_roots.append(round(x_list[2728], 2))\n",
    "x_roots.append(round(x_list[2938], 2))\n",
    "x_roots.append(round(x_list[3304], 2))\n",
    "x_roots.append(round(x_list[3586], 2))\n",
    "x_roots.append(round(x_list[3925], 2))\n",
    "x_roots.append(round(x_list[4219], 2))\n",
    "x_roots.append(round(x_list[4550], 2))\n",
    "x_roots.append(round(x_list[4849], 2))\n",
    "print(f'Корни уравнения для отрезка -25, 25 = {x_roots}')"
   ]
  },
  {
   "cell_type": "code",
   "execution_count": 15,
   "id": "2ebc355d",
   "metadata": {},
   "outputs": [],
   "source": [
    "def versh(a, b, c, d, e):\n",
    "    x = np.arange(-25, 25.01, 0.01)\n",
    "    function = a*x**4*np.sin(np.cos(x)) + b*x**3 + c*x**2 + d*x + e\n",
    "#     print(function)\n",
    "    vershin = []\n",
    "    for i in range(len(function)):\n",
    "        if function[i - 1] > function[i] and function[i] > 0:\n",
    "            vershin.append(i - 1)\n",
    "            vershin.append(function[i - 1])\n",
    "            break\n",
    "    while function[i - 1] > function[i]:\n",
    "        i = i + 1\n",
    "        if function[i - 1] < function[i] and function[i] < 0:\n",
    "            vershin.append(i - 1)\n",
    "            vershin.append(function[i - 1])\n",
    "    while function[i - 1] < function[i]:\n",
    "        i = i + 1\n",
    "        if function[i - 1] > function[i] and function[i] > 0:\n",
    "            vershin.append(i - 1)\n",
    "            vershin.append(function[i - 1])\n",
    "    while function[i - 1] > function[i]:\n",
    "        i = i + 1\n",
    "        if function[i - 1] < function[i] and function[i] < 0:\n",
    "            vershin.append(i - 1)\n",
    "            vershin.append(function[i - 1])\n",
    "    while function[i - 1] < function[i]:\n",
    "        i = i + 1\n",
    "        if function[i - 1] > function[i] and function[i] > 0:\n",
    "            vershin.append(i - 1)\n",
    "            vershin.append(function[i - 1])\n",
    "    while function[i - 1] > function[i]:\n",
    "        i = i + 1\n",
    "        if function[i - 1] < function[i] and function[i] < 0:\n",
    "            vershin.append(i - 1)\n",
    "            vershin.append(function[i - 1])\n",
    "    while function[i - 1] < function[i]:\n",
    "        i = i + 1\n",
    "        if function[i - 1] > function[i] and function[i] > 0:\n",
    "            vershin.append(i - 1)\n",
    "            vershin.append(function[i - 1])\n",
    "    while function[i - 1] > function[i]:\n",
    "        i = i + 1\n",
    "        if function[i - 1] < function[i] and function[i] < 0:\n",
    "            vershin.append(i - 1)\n",
    "            vershin.append(function[i - 1])\n",
    "    while function[i - 1] < function[i]:\n",
    "        i = i + 1\n",
    "        if function[i - 1] > function[i] and function[i] > 0:\n",
    "            vershin.append(i - 1)\n",
    "            vershin.append(function[i - 1])\n",
    "    while function[i - 1] > function[i]:\n",
    "        i = i + 1\n",
    "        if function[i - 1] < function[i] and function[i] < 0:\n",
    "            vershin.append(i - 1)\n",
    "            vershin.append(function[i - 1])\n",
    "    while function[i - 1] < function[i]:\n",
    "        i = i + 1\n",
    "        if function[i - 1] > function[i] and function[i] > 0:\n",
    "            vershin.append(i - 1)\n",
    "            vershin.append(function[i - 1])\n",
    "    while function[i - 1] > function[i]:\n",
    "        i = i + 1\n",
    "        if function[i - 1] < function[i] and function[i] < 0:\n",
    "            vershin.append(i - 1)\n",
    "            vershin.append(function[i - 1])\n",
    "    while function[i - 1] < function[i]:\n",
    "        i = i + 1\n",
    "        if function[i - 1] > function[i] and function[i] > 0:\n",
    "            vershin.append(i - 1)\n",
    "            vershin.append(function[i - 1])\n",
    "    while function[i - 1] > function[i]:\n",
    "        i = i + 1\n",
    "        if function[i - 1] < function[i] and function[i] < 0:\n",
    "            vershin.append(i - 1)\n",
    "            vershin.append(function[i - 1])\n",
    "    while function[i - 1] < function[i]:\n",
    "        i = i + 1\n",
    "        if function[i - 1] > function[i] and function[i] > 0:\n",
    "            vershin.append(i - 1)\n",
    "            vershin.append(function[i - 1])\n",
    "    while function[i - 1] > function[i]:\n",
    "        i = i + 1\n",
    "        if function[i - 1] < function[i] and function[i] < 0:\n",
    "            vershin.append(i - 1)\n",
    "            vershin.append(function[i - 1])\n",
    "    while function[i - 1] < function[i]:\n",
    "        i = i + 1\n",
    "        if function[i - 1] > function[i] and function[i] > 0:\n",
    "            vershin.append(i - 1)\n",
    "            vershin.append(function[i - 1])\n",
    "    print(vershin)\n",
    "    return vershin"
   ]
  },
  {
   "cell_type": "code",
   "execution_count": 16,
   "id": "c02c6804",
   "metadata": {},
   "outputs": [
    {
     "name": "stdout",
     "output_type": "stream",
     "text": [
      "[273, 2621306.9000697043, 587, -1189754.3287733998, 892, 719825.6049146233, 1206, -230227.65939076518, 1502, 107677.97988580153, 1817, -13820.510380487034, 2083, 3111.347480265356, 2461, -32.29345024711559, 2670, -74.10623434395498, 2882, 872.2549542838268, 3200, -25610.491276575372, 3488, 72634.2724507616, 3801, -308671.5724920108, 4103, 571129.5923762016, 4417, -1442156.0624336624, 4724, 2224990.5181083544]\n"
     ]
    }
   ],
   "source": [
    "y_versh = versh(-12, -18, 5, 10, -30)"
   ]
  },
  {
   "cell_type": "code",
   "execution_count": 17,
   "id": "1500b521",
   "metadata": {},
   "outputs": [],
   "source": [
    "x_list1 = np.arange(-25, 25.01, 0.01)"
   ]
  },
  {
   "cell_type": "code",
   "execution_count": 18,
   "id": "a9712c94",
   "metadata": {},
   "outputs": [],
   "source": [
    "# print(x_list1)"
   ]
  },
  {
   "cell_type": "code",
   "execution_count": 19,
   "id": "873ec838",
   "metadata": {},
   "outputs": [
    {
     "name": "stdout",
     "output_type": "stream",
     "text": [
      "[-22.27, -19.13, -16.08, -12.94, -9.98, -6.83, -4.17, -0.39, 1.7, 3.82, 7.0, 9.88, 13.01, 16.03, 19.17, 22.24]\n"
     ]
    }
   ],
   "source": [
    "x_versh = []\n",
    "x_versh.append(round(x_list1[273], 2))\n",
    "x_versh.append(round(x_list1[587], 2))\n",
    "x_versh.append(round(x_list1[892], 2))\n",
    "x_versh.append(round(x_list1[1206], 2))\n",
    "x_versh.append(round(x_list1[1502], 2))\n",
    "x_versh.append(round(x_list1[1817], 2))\n",
    "x_versh.append(round(x_list1[2083], 2))\n",
    "x_versh.append(round(x_list1[2461], 2))\n",
    "x_versh.append(round(x_list1[2670], 2))\n",
    "x_versh.append(round(x_list1[2882], 2))\n",
    "x_versh.append(round(x_list1[3200], 2))\n",
    "x_versh.append(round(x_list1[3488], 2))\n",
    "x_versh.append(round(x_list1[3801], 2))\n",
    "x_versh.append(round(x_list1[4103], 2))\n",
    "x_versh.append(round(x_list1[4417], 2))\n",
    "x_versh.append(round(x_list1[4724], 2))\n",
    "print(x_versh)"
   ]
  },
  {
   "cell_type": "code",
   "execution_count": 20,
   "id": "a36ac65b",
   "metadata": {},
   "outputs": [],
   "source": [
    "def show_func2():\n",
    "    plt.title(f'Корни функции для отрезка -25, 25 = {x_roots}')\n",
    "    plt.xlabel('Ось X')\n",
    "    plt.ylabel('Ось Y')\n",
    "    plt.plot(x_roots[0], y_roots[1], 'ro', label='Корни')\n",
    "    plt.plot(x_roots[1], y_roots[3], 'ro')\n",
    "    plt.plot(x_roots[2], y_roots[5], 'ro')\n",
    "    plt.plot(x_roots[3], y_roots[7], 'ro')\n",
    "    plt.plot(x_roots[4], y_roots[9], 'ro')\n",
    "    plt.plot(x_roots[5], y_roots[11], 'ro')\n",
    "    plt.plot(x_roots[6], y_roots[13], 'ro')\n",
    "    plt.plot(x_roots[7], y_roots[15], 'ro')\n",
    "    plt.plot(x_roots[8], y_roots[17], 'ro')\n",
    "    plt.plot(x_roots[9], y_roots[19], 'ro')\n",
    "    plt.plot(x_roots[10], y_roots[21], 'ro')\n",
    "    plt.plot(x_roots[11], y_roots[23], 'ro')\n",
    "    plt.plot(x_roots[12], y_roots[25], 'ro')\n",
    "    plt.plot(x_roots[13], y_roots[27], 'ro')\n",
    "    plt.plot(x_roots[14], y_roots[29], 'ro')\n",
    "    plt.plot(x_roots[15], y_roots[31], 'ro')\n",
    "    plt.plot(x_versh[0], y_versh[1], 'bo', label='Вершины')\n",
    "    plt.plot(x_versh[1], y_versh[3], 'bo')\n",
    "    plt.plot(x_versh[2], y_versh[5], 'bo')\n",
    "    plt.plot(x_versh[3], y_versh[7], 'bo')\n",
    "    plt.plot(x_versh[4], y_versh[9], 'bo')\n",
    "    plt.plot(x_versh[5], y_versh[11], 'bo')\n",
    "    plt.plot(x_versh[6], y_versh[13], 'bo')\n",
    "    plt.plot(x_versh[7], y_versh[15], 'bo')\n",
    "    plt.plot(x_versh[8], y_versh[17], 'bo')\n",
    "    plt.plot(x_versh[9], y_versh[19], 'bo')\n",
    "    plt.plot(x_versh[10], y_versh[21], 'bo')\n",
    "    plt.plot(x_versh[11], y_versh[23], 'bo')\n",
    "    plt.plot(x_versh[12], y_versh[25], 'bo')\n",
    "    plt.plot(x_versh[13], y_versh[27], 'bo')\n",
    "    plt.plot(x_versh[14], y_versh[29], 'bo')\n",
    "    plt.plot(x_versh[15], y_versh[31], 'bo')\n",
    "    plt.rcParams['lines.linestyle'] = '-.'\n",
    "    x_range_up_neg = np.arange(-25, x_roots[0], 0.01)\n",
    "    plt.plot(x_range_up_neg, f(x_range_up_neg), 'g', label='Возрастание меньше 0, (f < 0)')\n",
    "    plt.rcParams['lines.linestyle'] = '-'\n",
    "    x_range_up_pos = np.arange(x_roots[0], x_versh[0], 0.01)\n",
    "    plt.plot(x_range_up_pos, f(x_range_up_pos), 'g', label='Возрастание больше 0, (f > 0)')\n",
    "    x_range_down_pos = np.arange(x_versh[0], x_roots[1], 0.01)\n",
    "    plt.plot(x_range_down_pos, f(x_range_down_pos), 'r', label='Убывание больше 0, (f > 0)')\n",
    "    plt.rcParams['lines.linestyle'] = '-.'\n",
    "    x_range_down_neg = np.arange(x_roots[1], x_versh[1], 0.01)\n",
    "    plt.plot(x_range_down_neg, f(x_range_down_neg), 'r', label='Убывание меньше 0, (f < 0)')\n",
    "    x_range_up_neg = np.arange(x_versh[1], x_roots[2], 0.01)  \n",
    "    plt.plot(x_range_up_neg, f(x_range_up_neg), 'g')   # возрастание меньше 0\n",
    "    plt.rcParams['lines.linestyle'] = '-'\n",
    "    x_range_up_pos = np.arange(x_roots[2], x_versh[2], 0.01) \n",
    "    plt.plot(x_range_up_pos, f(x_range_up_pos), 'g') # возрастание больше 0\n",
    "    x_range_down_pos = np.arange(x_versh[2], x_roots[3], 0.01)\n",
    "    plt.plot(x_range_down_pos, f(x_range_down_pos), 'r') # убывание больше 0\n",
    "    plt.rcParams['lines.linestyle'] = '-.'\n",
    "    x_range_down_neg = np.arange(x_roots[3], x_versh[3], 0.01)\n",
    "    plt.plot(x_range_down_neg, f(x_range_down_neg), 'r') # убывание меньше 0\n",
    "    x_range_up_neg = np.arange(x_versh[3], x_roots[4], 0.01)  \n",
    "    plt.plot(x_range_up_neg, f(x_range_up_neg), 'g')   # возрастание меньше 0\n",
    "    plt.rcParams['lines.linestyle'] = '-'\n",
    "    x_range_up_pos = np.arange(x_roots[4], x_versh[4], 0.01) \n",
    "    plt.plot(x_range_up_pos, f(x_range_up_pos), 'g') # возрастание больше 0\n",
    "    x_range_down_pos = np.arange(x_versh[4], x_roots[5], 0.01)\n",
    "    plt.plot(x_range_down_pos, f(x_range_down_pos), 'r') # убывание больше 0\n",
    "    plt.rcParams['lines.linestyle'] = '-.'\n",
    "    x_range_down_neg = np.arange(x_roots[5], x_versh[5], 0.01)\n",
    "    plt.plot(x_range_down_neg, f(x_range_down_neg), 'r') # убывание меньше 0\n",
    "    x_range_up_neg = np.arange(x_versh[5], x_roots[6], 0.01)  \n",
    "    plt.plot(x_range_up_neg, f(x_range_up_neg), 'g')   # возрастание меньше 0\n",
    "    plt.rcParams['lines.linestyle'] = '-'\n",
    "    x_range_up_pos = np.arange(x_roots[6], x_versh[6], 0.01) \n",
    "    plt.plot(x_range_up_pos, f(x_range_up_pos), 'g') # возрастание больше 0\n",
    "    x_range_down_pos = np.arange(x_versh[6], x_roots[7], 0.01)\n",
    "    plt.plot(x_range_down_pos, f(x_range_down_pos), 'r') # убывание больше 0\n",
    "    plt.rcParams['lines.linestyle'] = '-.'\n",
    "    x_range_down_neg = np.arange(x_roots[7], x_versh[7], 0.01)\n",
    "    plt.plot(x_range_down_neg, f(x_range_down_neg), 'r') # убывание меньше 0\n",
    "    x_range_down_neg = np.arange(x_roots[15], 25, 0.01) #убывание меньше 0\n",
    "    plt.plot(x_range_down_neg, f(x_range_down_neg), 'r')\n",
    "    plt.rcParams['lines.linestyle'] = '-'\n",
    "    x_range_down_pos = np.arange(x_versh[15], x_roots[15], 0.01)\n",
    "    plt.plot(x_range_down_pos, f(x_range_down_pos), 'r') # убывание больше 0\n",
    "    x_range_up_pos = np.arange(x_roots[14], x_versh[15], 0.01) \n",
    "    plt.plot(x_range_up_pos, f(x_range_up_pos), 'g') # возрастание больше 0\n",
    "    plt.rcParams['lines.linestyle'] = '-.'\n",
    "    x_range_up_neg = np.arange(x_versh[14], x_roots[14], 0.01)  \n",
    "    plt.plot(x_range_up_neg, f(x_range_up_neg), 'g')   # возрастание меньше 0  \n",
    "    x_range_down_neg = np.arange(x_roots[13], x_versh[14], 0.01)\n",
    "    plt.plot(x_range_down_neg, f(x_range_down_neg), 'r') # убывание меньше 0\n",
    "    plt.rcParams['lines.linestyle'] = '-'\n",
    "    x_range_down_pos = np.arange(x_versh[13], x_roots[13], 0.01)\n",
    "    plt.plot(x_range_down_pos, f(x_range_down_pos), 'r') # убывание больше 0\n",
    "    x_range_up_pos = np.arange(x_roots[12], x_versh[13], 0.01) \n",
    "    plt.plot(x_range_up_pos, f(x_range_up_pos), 'g') # возрастание больше 0\n",
    "    plt.rcParams['lines.linestyle'] = '-.'\n",
    "    x_range_up_neg = np.arange(x_versh[12], x_roots[12], 0.01)  \n",
    "    plt.plot(x_range_up_neg, f(x_range_up_neg), 'g')   # возрастание меньше 0 \n",
    "    x_range_down_neg = np.arange(x_roots[11], x_versh[12], 0.01)\n",
    "    plt.plot(x_range_down_neg, f(x_range_down_neg), 'r') # убывание меньше 0\n",
    "    plt.rcParams['lines.linestyle'] = '-'\n",
    "    x_range_down_pos = np.arange(x_versh[11], x_roots[11], 0.01)\n",
    "    plt.plot(x_range_down_pos, f(x_range_down_pos), 'r') # убывание больше 0\n",
    "    x_range_up_pos = np.arange(x_roots[10], x_versh[11], 0.01) \n",
    "    plt.plot(x_range_up_pos, f(x_range_up_pos), 'g') # возрастание больше 0\n",
    "    plt.rcParams['lines.linestyle'] = '-.'\n",
    "    x_range_up_neg = np.arange(x_versh[10], x_roots[10], 0.01)  \n",
    "    plt.plot(x_range_up_neg, f(x_range_up_neg), 'g')   # возрастание меньше 0\n",
    "    x_range_down_neg = np.arange(x_roots[9], x_versh[10], 0.01)\n",
    "    plt.plot(x_range_down_neg, f(x_range_down_neg), 'r') # убывание меньше 0\n",
    "    plt.rcParams['lines.linestyle'] = '-'\n",
    "    x_range_down_pos = np.arange(x_versh[9], x_roots[9], 0.01)\n",
    "    plt.plot(x_range_down_pos, f(x_range_down_pos), 'r') # убывание больше 0\n",
    "    x_range_up_pos = np.arange(x_roots[8], x_versh[9], 0.01) \n",
    "    plt.plot(x_range_up_pos, f(x_range_up_pos), 'g') # возрастание больше 0\n",
    "    plt.grid()\n",
    "    plt.legend()"
   ]
  },
  {
   "cell_type": "code",
   "execution_count": 21,
   "id": "9f631066",
   "metadata": {},
   "outputs": [
    {
     "data": {
      "image/png": "[encoded data removed]",
      "text/plain": [
       "<Figure size 640x480 with 1 Axes>"
      ]
     },
     "metadata": {},
     "output_type": "display_data"
    }
   ],
   "source": [
    "show_func2()"
   ]
  }
 ],
 "metadata": {
  "kernelspec": {
   "display_name": "Python 3 (ipykernel)",
   "language": "python",
   "name": "python3"
  },
  "language_info": {
   "codemirror_mode": {
    "name": "ipython",
    "version": 3
   },
   "file_extension": ".py",
   "mimetype": "text/x-python",
   "name": "python",
   "nbconvert_exporter": "python",
   "pygments_lexer": "ipython3",
   "version": "3.10.9"
  }
 },
 "nbformat": 4,
 "nbformat_minor": 5
}
